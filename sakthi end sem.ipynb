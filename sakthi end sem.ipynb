{
 "cells": [
  {
   "cell_type": "code",
   "execution_count": 1,
   "metadata": {},
   "outputs": [
    {
     "name": "stdout",
     "output_type": "stream",
     "text": [
      "     X    Y\n",
      "0   40   78\n",
      "1   98  121\n",
      "2   33   60\n",
      "3   65   63\n",
      "4   34  114\n",
      "5   87  145\n",
      "6   55  131\n",
      "7   52  127\n",
      "8   51  144\n",
      "9   61  109\n",
      "10  34   60\n",
      "11  94  128\n",
      "12  34  123\n",
      "13  51   73\n",
      "14  47  105\n",
      "15  47   96\n",
      "16  70  126\n",
      "17  49  139\n",
      "18  39  106\n",
      "19  55  143\n",
      "20  99   88\n",
      "21  60   74\n",
      "22  64  139\n",
      "23  46  125\n",
      "24  59   94\n",
      "25  57   65\n",
      "26  84   75\n",
      "27  31  126\n",
      "28  41  148\n",
      "29  66   87\n",
      "30  44  124\n",
      "31  33   76\n",
      "32  88   86\n",
      "33  48  141\n",
      "34  56  138\n",
      "35  69  109\n",
      "36  55  115\n",
      "37  92   92\n",
      "38  33  130\n",
      "39  30  146\n",
      "40  65  131\n",
      "41  60   89\n",
      "42  87  104\n",
      "43  41  120\n",
      "44  71   73\n",
      "45  71   69\n",
      "46  87  103\n",
      "47  50  111\n",
      "48  63  132\n",
      "49  59  144\n"
     ]
    }
   ],
   "source": [
    "import numpy as np\n",
    "from pandas import DataFrame\n",
    "Data={'X' : np.random.randint(30,100,50),\n",
    "'Y' : np.random.randint(60,150,50)}\n",
    "df = DataFrame(Data,columns=['X','Y'])\n",
    "print(df)"
   ]
  },
  {
   "cell_type": "code",
   "execution_count": 2,
   "metadata": {},
   "outputs": [
    {
     "name": "stdout",
     "output_type": "stream",
     "text": [
      "[[ 89.         108.44444444]\n",
      " [ 55.4         75.46666667]\n",
      " [ 48.96153846 128.34615385]]\n"
     ]
    },
    {
     "data": {
      "image/png": "[encoded data removed]",
      "text/plain": [
       "<Figure size 432x288 with 1 Axes>"
      ]
     },
     "metadata": {
      "needs_background": "light"
     },
     "output_type": "display_data"
    }
   ],
   "source": [
    "import matplotlib.pyplot as plt\n",
    "from sklearn.cluster import KMeans\n",
    "\n",
    "\n",
    "kmeans = KMeans(n_clusters=3).fit(df)\n",
    "centroids = kmeans.cluster_centers_\n",
    "print(centroids)\n",
    "\n",
    "plt.scatter(df['X'], df['Y'], c= kmeans.labels_.astype(float), s=50, alpha=0.5)\n",
    "plt.scatter(centroids[:, 0], centroids[:, 1], c='red', s=50)\n",
    "plt.show()"
   ]
  },
  {
   "cell_type": "code",
   "execution_count": null,
   "metadata": {},
   "outputs": [],
   "source": [
    "import tkinter as tk\n",
    "from matplotlib.backends.backend_tkagg import FigureCanvasTkAgg\n",
    "  \n",
    "\n",
    "root= tk.Tk()\n",
    "\n",
    "canvas1 = tk.Canvas(root, width = 100, height = 100)\n",
    "canvas1.pack()\n",
    "\n",
    "label1 = tk.Label(root, text=centroids, justify = 'center')\n",
    "canvas1.create_window(70, 50, window=label1)\n",
    "\n",
    "figure1 = plt.Figure(figsize=(5,4), dpi=100)\n",
    "ax1 = figure1.add_subplot(111)\n",
    "ax1.scatter(df['X'], df['Y'], c= kmeans.labels_.astype(float), s=50, alpha=0.5)\n",
    "ax1.scatter(centroids[:, 0], centroids[:, 1], c='red', s=50)\n",
    "scatter1 = FigureCanvasTkAgg(figure1, root) \n",
    "scatter1.get_tk_widget().pack(side=tk.LEFT, fill=tk.BOTH)\n",
    "\n",
    "root.mainloop()"
   ]
  },
  {
   "cell_type": "code",
   "execution_count": null,
   "metadata": {},
   "outputs": [],
   "source": []
  }
 ],
 "metadata": {
  "kernelspec": {
   "display_name": "Python 3",
   "language": "python",
   "name": "python3"
  },
  "language_info": {
   "codemirror_mode": {
    "name": "ipython",
    "version": 3
   },
   "file_extension": ".py",
   "mimetype": "text/x-python",
   "name": "python",
   "nbconvert_exporter": "python",
   "pygments_lexer": "ipython3",
   "version": "3.8.5"
  }
 },
 "nbformat": 4,
 "nbformat_minor": 4
}
